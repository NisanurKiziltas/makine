{
 "cells": [
  {
   "cell_type": "markdown",
   "metadata": {},
   "source": [
    "F'i NEDEN TAHMİN EDERİZ ?\n",
    "\n",
    " y ile x arasında şu şekilde bir ilişki olduğunu kabul etmiştik:\n",
    "\n",
    " Y =F(X) +£\n",
    "\n",
    " işte buradaki ilişki yani, f'yi bulmak için iki ana nedenimiz var:\n",
    "\n",
    "    * tahmin yapmak\n",
    "    *çıkarım yapmak\n",
    " \n",
    "TAHMİN\n",
    "\n",
    " çoğu zaman elimizde girdi değişkeni yani x olur ama y olmaz.\n",
    "\n",
    " Dolayısı ile y ' tahmin etmemiz lazımdır.\n",
    " \n",
    " Tahmin ederken kaçımılmaz olarak bir hata payı olacaktır. Buna 'KAÇINILMAZ HATA' deriz.\n",
    "\n",
    " ToplamHata = KaçınılabirHata + KAÇINILMAZ HATA\n",
    "\n",
    "ÇIKARIM\n",
    "\n",
    " Bazı durumlarda y'nin değerini tahmin etmek yerine, olası durumlar için çıkarımda bulunmamız gerekir.\n",
    "\n",
    " Örneğin, Hisse Senedi veri kümesinde gördüğümüz üzere, bir hissenin yarınki değerinin ne olacağını tahmin etmek yerine, acaba artacak mı yoksa azalacak mı, bu çıkarımı yapmaya çalıştık.\n",
    "\n",
    " Çıkarım yapmak, tahmin yapmak kadar önemlidir ve karar verecinin iyi kararlar vermesini sağlar.\n",
    "\n",
    " Başka bir örnek olarak, TV-Radio-Newspaper reklamlarının hangisinin Satış miktarını daha çok artırdığını öğrenmek istesek bu da bir çıkarım olurdu.\n",
    "\n",
    " Burada Satış'ın tam olarak ne olacağını tahmin etmeye çalışmak yerine, 3 girdinin hangisinin daha önemli olduğunu saptamaya çalışırsak bu bir Çıkarım olur."
   ]
  }
 ],
 "metadata": {
  "kernelspec": {
   "display_name": "Python 3.10.5 64-bit",
   "language": "python",
   "name": "python3"
  },
  "language_info": {
   "name": "python",
   "version": "3.10.5"
  },
  "orig_nbformat": 4,
  "vscode": {
   "interpreter": {
    "hash": "a8e12aed41f4e02c63e5c3d04fcbea6627bd725a65ee090b300d900df10d4c55"
   }
  }
 },
 "nbformat": 4,
 "nbformat_minor": 2
}
